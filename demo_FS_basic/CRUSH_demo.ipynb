{
  "cells": [
    {
      "cell_type": "markdown",
      "metadata": {
        "colab_type": "text",
        "id": "view-in-github"
      },
      "source": [
        "<a href=\"https://colab.research.google.com/github/iMayK/CRUSH_demo/blob/main/demo_FS_basic/CRUSH_demo.ipynb\" target=\"_parent\"><img src=\"https://colab.research.google.com/assets/colab-badge.svg\" alt=\"Open In Colab\"/></a>"
      ]
    },
    {
      "cell_type": "code",
      "execution_count": null,
      "metadata": {
        "id": "mq0RyH_W-AG5"
      },
      "outputs": [],
      "source": [
        "!git clone https://github.com/iMayK/CRUSH_demo.git"
      ]
    },
    {
      "cell_type": "code",
      "execution_count": null,
      "metadata": {
        "id": "29WMbj7Q-DMF"
      },
      "outputs": [],
      "source": [
        "cd CRUSH_demo/demo_FS_basic/"
      ]
    },
    {
      "cell_type": "code",
      "execution_count": null,
      "metadata": {
        "id": "k261pqDD-42a"
      },
      "outputs": [],
      "source": [
        "# download document indexes\n",
        "!gdown --output utils/ 1iT92VJj-HWlxa9hj3BA8YAkPWGaKLvl3"
      ]
    },
    {
      "cell_type": "code",
      "execution_count": null,
      "metadata": {
        "id": "Ct0Ud-3FAzba"
      },
      "outputs": [],
      "source": [
        "!pip install openai"
      ]
    },
    {
      "cell_type": "code",
      "execution_count": null,
      "metadata": {
        "id": "8DxEqizuAzTw"
      },
      "outputs": [],
      "source": []
    },
    {
      "cell_type": "code",
      "execution_count": null,
      "metadata": {
        "id": "Izla9d9g-5CL"
      },
      "outputs": [],
      "source": [
        "from getpass import getpass\n",
        "\n",
        "from utils.utils import ndap_pipeline\n",
        "from utils.feedback_utils import feedback_pipeline"
      ]
    },
    {
      "cell_type": "code",
      "execution_count": null,
      "metadata": {
        "colab": {
          "base_uri": "https://localhost:8080/"
        },
        "id": "cg68fPXzBFrI",
        "outputId": "81aa96cb-019d-4162-d92f-d8e2bbfff3f1"
      },
      "outputs": [
        {
          "name": "stdout",
          "output_type": "stream",
          "text": [
            "AZURE_OPENAI_API_KEY: ··········\n",
            "AZURE_OPENAI_ENDPOINT: ··········\n"
          ]
        }
      ],
      "source": [
        "api_key = getpass('AZURE_OPENAI_API_KEY: ')\n",
        "endpoint = getpass('AZURE_OPENAI_ENDPOINT: ')"
      ]
    },
    {
      "cell_type": "code",
      "execution_count": null,
      "metadata": {
        "id": "4-mhwKbjBE0C"
      },
      "outputs": [],
      "source": [
        "correct_txt_sql_pairs = {}"
      ]
    },
    {
      "cell_type": "code",
      "execution_count": null,
      "metadata": {
        "colab": {
          "base_uri": "https://localhost:8080/"
        },
        "id": "bvRjj1h0BE9d",
        "outputId": "b2101f61-2b0e-49e2-a5a6-afc3bf611a03"
      },
      "outputs": [
        {
          "name": "stdout",
          "output_type": "stream",
          "text": [
            "\n",
            "question: what is the correlation between child nourishment and parental education?\n",
            "\n",
            "Generated segments:  ['family_health_survey.child_age', 'family_health_survey.child_nourishment', 'population_census.age', 'population_census.male_literate_population', 'population_census.female_literate_population']\n",
            "\n",
            "Input prompt:\n",
            " Please write SQL for \"what is the correlation between child nourishment and parental education?\" based on the following schema:\n",
            "\n",
            " \"Primary Population Census 2001 7097\" (\n",
            "\t\"Male illiterate population,\"\n",
            "\t\"Male literate population,\"\n",
            "\t\"Female illiterate population,\"\n",
            "\t\"Female literate population,\"\n",
            "\t\"Country,\"\n",
            "\t\"State LGD Code,\"\n",
            "\t\"State,\"\n",
            "\t\"District LGD Code,\"\n",
            "\t\"District,\"\n",
            "\t\"Sub-District LGD Code,\"\n",
            "\t\"Sub-District,\"\n",
            "\t\"ULB_RLB_Village LGD Code,\"\n",
            "\t\"ULB_RLB_Village,\"\n",
            "\t\"YearCode,\"\n",
            "\t\"Year,\"\n",
            "\t\"Residence type,\"\n",
            "\t\"Location Level,\"\n",
            "),\n",
            "\"National Family Health Survey - 4 : District 7034\" (\n",
            "\t\"Children age group 6 to 23 months receiving an adequate diet (%),\"\n",
            "\t\"Non-breastfeeding children age group 6 to 23 months receiving an adequate diet (%),\"\n",
            "\t\"Country,\"\n",
            "\t\"State lgd code,\"\n",
            "\t\"State,\"\n",
            "\t\"District lgd code,\"\n",
            "\t\"District,\"\n",
            "\t\"Residence type,\"\n",
            "\t\"Yearcode,\"\n",
            "\t\"Year,\"\n",
            "),\n",
            "\"National Family Health Survey - 4 & 5: State 6821\" (\n",
            "\t\"Non-breastfeeding children age group 6 to 23 months receiving an adequate diet (%),\"\n",
            "\t\"Women age group 15 to 49 years who are literate (%),\"\n",
            "\t\"Children age group 6 to 23 months receiving an adequate diet (%),\"\n",
            "\t\"Children age group 12 to 23 months who received most of their vaccinations in a public health facility (%),\"\n",
            "\t\"Children age group 6 to 8 months receiving solid or semisolid food and breastmilk (%),\"\n",
            "\t\"Children age group 12 to 23 months fully vaccinated based on information from either vaccination card or mothers recall (%),\"\n",
            "\t\"Country,\"\n",
            "\t\"State lgd code,\"\n",
            "\t\"State,\"\n",
            "\t\"Nfhs survey number ( nfhs - 4 or nfhs - 5 ),\"\n",
            "\t\"Residence type,\"\n",
            "\t\"Year code,\"\n",
            "\t\"Year,\"\n",
            "),\n",
            "\"Primary Population Census 2011 6000\" (\n",
            "\t\"Female literate population,\"\n",
            "\t\"Male literate population,\"\n",
            "\t\"Country,\"\n",
            "\t\"State lgd code,\"\n",
            "\t\"State,\"\n",
            "\t\"District lgd code,\"\n",
            "\t\"District,\"\n",
            "\t\"Sub-District lgd Code,\"\n",
            "\t\"Sub-District,\"\n",
            "\t\"ULB_RLB_Village lgd Code,\"\n",
            "\t\"ULB_RLB_Village,\"\n",
            "\t\"YearCode,\"\n",
            "\t\"Year,\"\n",
            "\t\"Rural or Urban,\"\n",
            "),\n",
            "\"Comprehensive National Nutrition Survey (CNNS) 2016-18: Key Anthropometric Indicators by Residence 7045\" (\n",
            "\t\"Stunned children age group of 5 to 9 years (%),\"\n",
            "\t\"Country,\"\n",
            "\t\"State lgd code,\"\n",
            "\t\"State,\"\n",
            "\t\"From year,\"\n",
            "\t\"Residence type,\"\n",
            "\t\"Yearcode,\"\n",
            "\t\"Year,\"\n",
            "),\n",
            "\"National Family Health Survey-5 : District 6822\" (\n",
            "\t\"Women age group 15 to 49 years who are literate (%),\"\n",
            "\t\"Non-breastfeeding children age group 6 to 23 months receiving an adequate diet (%),\"\n",
            "\t\"Country,\"\n",
            "\t\"State lgd code,\"\n",
            "\t\"State,\"\n",
            "\t\"District lgd code,\"\n",
            "\t\"District,\"\n",
            "\t\"Yearcode,\"\n",
            "\t\"Year,\"\n",
            "),\n",
            "\"Primary Population Census 1991 7563\" (\n",
            "\t\"Male illiterate population,\"\n",
            "\t\"Female illiterate population,\"\n",
            "\t\"Country,\"\n",
            "\t\"State LGD Code,\"\n",
            "\t\"State,\"\n",
            "\t\"District LGD Code,\"\n",
            "\t\"District,\"\n",
            "\t\"Sub-District LGD Code,\"\n",
            "\t\"Sub-District,\"\n",
            "\t\"ULB_RLB_Village LGD Code,\"\n",
            "\t\"ULB_RLB_Village,\"\n",
            "\t\"YearCode,\"\n",
            "\t\"Year,\"\n",
            "\t\"Level, Location Level District, Sub-district, Village, Town,Ward etc.,\"\n",
            "),\n",
            "\"Social and Demographic Indicators - Population 7388\" (\n",
            "\t\"Literacy rate (%),\"\n",
            "\t\"Country,\"\n",
            "\t\"State lgd code,\"\n",
            "\t\"State,\"\n",
            "\t\"Yearcode,\"\n",
            "\t\"Year,\"\n",
            "),\n",
            " \n",
            "\n",
            "Question: what is the correlation between child nourishment and parental education?\n",
            "SQL:\n",
            "\n",
            "SELECT AVG(nfhs4.\"Children age group 6 to 23 months receiving an adequate diet (%)\") AS child_nourishment,\n",
            "       AVG(nfhs4_5.\"Women age group 15 to 49 years who are literate (%)\") AS parental_education\n",
            "FROM \"National Family Health Survey - 4 : District 7034\" nfhs4\n",
            "JOIN \"National Family Health Survey - 4 & 5: State 6821\" nfhs4_5\n",
            "ON nfhs4.\"State lgd code\" = nfhs4_5.\"State lgd code\"\n",
            "AND nfhs4.\"District lgd code\" = nfhs4_5.\"District lgd code\"\n",
            "WHERE nfhs4.\"Year\" = nfhs4_5.\"Year\"\n",
            "GROUP BY nfhs4.\"State lgd code\", nfhs4.\"District lgd code\"\n"
          ]
        }
      ],
      "source": [
        "question = input('\\nQuestion: ')\n",
        "predicted_sql = ndap_pipeline(question, api_key, endpoint, correct_txt_sql_pairs)"
      ]
    },
    {
      "cell_type": "code",
      "execution_count": null,
      "metadata": {},
      "outputs": [],
      "source": []
    },
    {
      "cell_type": "code",
      "execution_count": 8,
      "metadata": {
        "colab": {
          "base_uri": "https://localhost:8080/"
        },
        "id": "rcKljKizYP4u",
        "outputId": "d7bbfdda-18a4-4810-e6c5-af6ecaf4df73"
      },
      "outputs": [
        {
          "name": "stdout",
          "output_type": "stream",
          "text": [
            "Want to provide feedback? Press `y` for yes, `n` for no: n\n"
          ]
        }
      ],
      "source": [
        "response = input('Want to provide feedback? Press `y` for yes, `n` for no: ')\n",
        "if response == 'y':\n",
        "    feedback_pipeline(question, predicted_sql)"
      ]
    },
    {
      "cell_type": "code",
      "execution_count": null,
      "metadata": {
        "id": "sq1yOQbu4R2q"
      },
      "outputs": [],
      "source": []
    },
    {
      "cell_type": "code",
      "execution_count": null,
      "metadata": {
        "id": "0wrofNkxhr7i"
      },
      "outputs": [],
      "source": []
    },
    {
      "cell_type": "code",
      "execution_count": null,
      "metadata": {
        "id": "Evv1YXgzhr2n"
      },
      "outputs": [],
      "source": []
    },
    {
      "cell_type": "code",
      "execution_count": null,
      "metadata": {
        "id": "aOIiKzswYQEM"
      },
      "outputs": [],
      "source": []
    },
    {
      "cell_type": "code",
      "execution_count": null,
      "metadata": {
        "id": "DouGB315BFJ8"
      },
      "outputs": [],
      "source": []
    },
    {
      "cell_type": "code",
      "execution_count": null,
      "metadata": {
        "id": "6L20RMacBFPu"
      },
      "outputs": [],
      "source": []
    },
    {
      "cell_type": "code",
      "execution_count": null,
      "metadata": {
        "id": "eXAvqR8_-5Rq"
      },
      "outputs": [],
      "source": []
    }
  ],
  "metadata": {
    "colab": {
      "authorship_tag": "ABX9TyO1uo6C/ZH6tVvMzazPKf2e",
      "include_colab_link": true,
      "provenance": []
    },
    "kernelspec": {
      "display_name": "Python 3",
      "name": "python3"
    },
    "language_info": {
      "name": "python"
    }
  },
  "nbformat": 4,
  "nbformat_minor": 0
}
