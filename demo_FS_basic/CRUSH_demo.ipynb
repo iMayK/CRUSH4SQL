{
  "cells": [
    {
      "attachments": {},
      "cell_type": "markdown",
      "metadata": {
        "colab_type": "text",
        "id": "view-in-github"
      },
      "source": [
        "<a href=\"https://colab.research.google.com/github/iMayK/CRUSH_demo/blob/main/demo_FS_basic/CRUSH_demo.ipynb\" target=\"_parent\"><img src=\"https://colab.research.google.com/assets/colab-badge.svg\" alt=\"Open In Colab\"/></a>"
      ]
    },
    {
      "cell_type": "code",
      "execution_count": null,
      "metadata": {},
      "outputs": [],
      "source": [
        "#@title CRUSH demo\n",
        "\n",
        "#@markdown To use this Colab, follow these steps:\n",
        "\n",
        "#@markdown - You will need an OpenAI API key. Your API key will not be stored; it will only work for this session.\n",
        "#@markdown - Feedback is encouraged but optional. Please note that providing feedback will require Google authentication.\n",
        "#@markdown - You will be prompted to select the level of detail you want for each question. Options include:\n",
        "#@markdown   - Final SQL\n",
        "#@markdown   - Relevant tables and SQL\n",
        "#@markdown   - Approach for retrieval, relevant tables, and SQL.\n",
        "#@markdown - Click `Runtime > Run all` or run each cell individually.\n",
        "#@markdown   - You only need to run this cell once per session to set up the environment\n",
        "\n",
        "!git clone https://github.com/iMayK/CRUSH_demo.git\n",
        "%cd CRUSH_demo/demo_FS_basic/\n",
        "\n",
        "# download document indexes\n",
        "!gdown --output utils/ 1iT92VJj-HWlxa9hj3BA8YAkPWGaKLvl3\n",
        "\n",
        "!pip install openai\n",
        "\n",
        "from utils.query_processing import QueryProcessingSession\n",
        "\n",
        "session = None"
      ]
    },
    {
      "cell_type": "code",
      "execution_count": null,
      "metadata": {},
      "outputs": [],
      "source": [
        "#@markdown <h2> Run this cell to get answers for each new question.\n",
        "\n",
        "if session is None: \n",
        "    session = QueryProcessingSession()  \n",
        "\n",
        "if session.api_key is None:\n",
        "    session.ask_openai_creds()\n",
        "else:\n",
        "    session.ask_question()"
      ]
    }
  ],
  "metadata": {
    "colab": {
      "authorship_tag": "ABX9TyO1uo6C/ZH6tVvMzazPKf2e",
      "include_colab_link": true,
      "provenance": []
    },
    "kernelspec": {
      "display_name": "Python 3",
      "name": "python3"
    },
    "language_info": {
      "codemirror_mode": {
        "name": "ipython",
        "version": 3
      },
      "file_extension": ".py",
      "mimetype": "text/x-python",
      "name": "python",
      "nbconvert_exporter": "python",
      "pygments_lexer": "ipython3",
      "version": "3.7.16"
    }
  },
  "nbformat": 4,
  "nbformat_minor": 0
}
