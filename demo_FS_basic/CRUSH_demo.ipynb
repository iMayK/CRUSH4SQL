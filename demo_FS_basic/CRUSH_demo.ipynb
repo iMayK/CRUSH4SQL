{
  "nbformat": 4,
  "nbformat_minor": 0,
  "metadata": {
    "colab": {
      "provenance": [],
      "authorship_tag": "ABX9TyO1uo6C/ZH6tVvMzazPKf2e",
      "include_colab_link": true
    },
    "kernelspec": {
      "name": "python3",
      "display_name": "Python 3"
    },
    "language_info": {
      "name": "python"
    }
  },
  "cells": [
    {
      "cell_type": "markdown",
      "metadata": {
        "id": "view-in-github",
        "colab_type": "text"
      },
      "source": [
        "<a href=\"https://colab.research.google.com/github/iMayK/CRUSH_demo/blob/main/CRUSH_demo.ipynb\" target=\"_parent\"><img src=\"https://colab.research.google.com/assets/colab-badge.svg\" alt=\"Open In Colab\"/></a>"
      ]
    },
    {
      "cell_type": "code",
      "execution_count": null,
      "metadata": {
        "id": "mq0RyH_W-AG5"
      },
      "outputs": [],
      "source": [
        "!git clone https://github.com/iMayK/CRUSH_demo.git"
      ]
    },
    {
      "cell_type": "code",
      "source": [
        "cd CRUSH_demo/demo_FS_basic/"
      ],
      "metadata": {
        "id": "29WMbj7Q-DMF"
      },
      "execution_count": null,
      "outputs": []
    },
    {
      "cell_type": "code",
      "source": [
        "# download document indexes\n",
        "!gdown --output utils/ 1iT92VJj-HWlxa9hj3BA8YAkPWGaKLvl3"
      ],
      "metadata": {
        "id": "k261pqDD-42a"
      },
      "execution_count": null,
      "outputs": []
    },
    {
      "cell_type": "code",
      "source": [
        "!pip install openai"
      ],
      "metadata": {
        "id": "Ct0Ud-3FAzba"
      },
      "execution_count": null,
      "outputs": []
    },
    {
      "cell_type": "code",
      "source": [],
      "metadata": {
        "id": "8DxEqizuAzTw"
      },
      "execution_count": null,
      "outputs": []
    },
    {
      "cell_type": "code",
      "source": [
        "from getpass import getpass\n",
        "\n",
        "from utils.utils import ndap_pipeline\n",
        "\n",
        "from google.colab import auth\n",
        "auth.authenticate_user()\n",
        "\n",
        "import gspread\n",
        "from google.auth import default\n",
        "creds, _ = default()\n",
        "\n",
        "gc = gspread.authorize(creds)"
      ],
      "metadata": {
        "id": "Izla9d9g-5CL"
      },
      "execution_count": null,
      "outputs": []
    },
    {
      "cell_type": "code",
      "source": [
        "api_key = getpass('AZURE_OPENAI_API_KEY: ')\n",
        "endpoint = getpass('AZURE_OPENAI_ENDPOINT: ')"
      ],
      "metadata": {
        "colab": {
          "base_uri": "https://localhost:8080/"
        },
        "id": "cg68fPXzBFrI",
        "outputId": "81aa96cb-019d-4162-d92f-d8e2bbfff3f1"
      },
      "execution_count": null,
      "outputs": [
        {
          "name": "stdout",
          "output_type": "stream",
          "text": [
            "AZURE_OPENAI_API_KEY: ··········\n",
            "AZURE_OPENAI_ENDPOINT: ··········\n"
          ]
        }
      ]
    },
    {
      "cell_type": "code",
      "source": [
        "correct_txt_sql_pairs = []"
      ],
      "metadata": {
        "id": "4-mhwKbjBE0C"
      },
      "execution_count": null,
      "outputs": []
    },
    {
      "cell_type": "code",
      "source": [
        "question = input('\\nQuestion: ')\n",
        "ndap_pipeline(question, api_key, endpoint, correct_txt_sql_pairs)"
      ],
      "metadata": {
        "colab": {
          "base_uri": "https://localhost:8080/"
        },
        "id": "bvRjj1h0BE9d",
        "outputId": "b2101f61-2b0e-49e2-a5a6-afc3bf611a03"
      },
      "execution_count": null,
      "outputs": [
        {
          "output_type": "stream",
          "name": "stdout",
          "text": [
            "\n",
            "question: what is the correlation between child nourishment and parental education?\n",
            "\n",
            "Generated segments:  ['family_health_survey.child_age', 'family_health_survey.child_nourishment', 'population_census.age', 'population_census.male_literate_population', 'population_census.female_literate_population']\n",
            "\n",
            "Input prompt:\n",
            " Please write SQL for \"what is the correlation between child nourishment and parental education?\" based on the following schema:\n",
            "\n",
            " \"Primary Population Census 2001 7097\" (\n",
            "\t\"Male illiterate population,\"\n",
            "\t\"Male literate population,\"\n",
            "\t\"Female illiterate population,\"\n",
            "\t\"Female literate population,\"\n",
            "\t\"Country,\"\n",
            "\t\"State LGD Code,\"\n",
            "\t\"State,\"\n",
            "\t\"District LGD Code,\"\n",
            "\t\"District,\"\n",
            "\t\"Sub-District LGD Code,\"\n",
            "\t\"Sub-District,\"\n",
            "\t\"ULB_RLB_Village LGD Code,\"\n",
            "\t\"ULB_RLB_Village,\"\n",
            "\t\"YearCode,\"\n",
            "\t\"Year,\"\n",
            "\t\"Residence type,\"\n",
            "\t\"Location Level,\"\n",
            "),\n",
            "\"National Family Health Survey - 4 : District 7034\" (\n",
            "\t\"Children age group 6 to 23 months receiving an adequate diet (%),\"\n",
            "\t\"Non-breastfeeding children age group 6 to 23 months receiving an adequate diet (%),\"\n",
            "\t\"Country,\"\n",
            "\t\"State lgd code,\"\n",
            "\t\"State,\"\n",
            "\t\"District lgd code,\"\n",
            "\t\"District,\"\n",
            "\t\"Residence type,\"\n",
            "\t\"Yearcode,\"\n",
            "\t\"Year,\"\n",
            "),\n",
            "\"National Family Health Survey - 4 & 5: State 6821\" (\n",
            "\t\"Non-breastfeeding children age group 6 to 23 months receiving an adequate diet (%),\"\n",
            "\t\"Women age group 15 to 49 years who are literate (%),\"\n",
            "\t\"Children age group 6 to 23 months receiving an adequate diet (%),\"\n",
            "\t\"Children age group 12 to 23 months who received most of their vaccinations in a public health facility (%),\"\n",
            "\t\"Children age group 6 to 8 months receiving solid or semisolid food and breastmilk (%),\"\n",
            "\t\"Children age group 12 to 23 months fully vaccinated based on information from either vaccination card or mothers recall (%),\"\n",
            "\t\"Country,\"\n",
            "\t\"State lgd code,\"\n",
            "\t\"State,\"\n",
            "\t\"Nfhs survey number ( nfhs - 4 or nfhs - 5 ),\"\n",
            "\t\"Residence type,\"\n",
            "\t\"Year code,\"\n",
            "\t\"Year,\"\n",
            "),\n",
            "\"Primary Population Census 2011 6000\" (\n",
            "\t\"Female literate population,\"\n",
            "\t\"Male literate population,\"\n",
            "\t\"Country,\"\n",
            "\t\"State lgd code,\"\n",
            "\t\"State,\"\n",
            "\t\"District lgd code,\"\n",
            "\t\"District,\"\n",
            "\t\"Sub-District lgd Code,\"\n",
            "\t\"Sub-District,\"\n",
            "\t\"ULB_RLB_Village lgd Code,\"\n",
            "\t\"ULB_RLB_Village,\"\n",
            "\t\"YearCode,\"\n",
            "\t\"Year,\"\n",
            "\t\"Rural or Urban,\"\n",
            "),\n",
            "\"Comprehensive National Nutrition Survey (CNNS) 2016-18: Key Anthropometric Indicators by Residence 7045\" (\n",
            "\t\"Stunned children age group of 5 to 9 years (%),\"\n",
            "\t\"Country,\"\n",
            "\t\"State lgd code,\"\n",
            "\t\"State,\"\n",
            "\t\"From year,\"\n",
            "\t\"Residence type,\"\n",
            "\t\"Yearcode,\"\n",
            "\t\"Year,\"\n",
            "),\n",
            "\"National Family Health Survey-5 : District 6822\" (\n",
            "\t\"Women age group 15 to 49 years who are literate (%),\"\n",
            "\t\"Non-breastfeeding children age group 6 to 23 months receiving an adequate diet (%),\"\n",
            "\t\"Country,\"\n",
            "\t\"State lgd code,\"\n",
            "\t\"State,\"\n",
            "\t\"District lgd code,\"\n",
            "\t\"District,\"\n",
            "\t\"Yearcode,\"\n",
            "\t\"Year,\"\n",
            "),\n",
            "\"Primary Population Census 1991 7563\" (\n",
            "\t\"Male illiterate population,\"\n",
            "\t\"Female illiterate population,\"\n",
            "\t\"Country,\"\n",
            "\t\"State LGD Code,\"\n",
            "\t\"State,\"\n",
            "\t\"District LGD Code,\"\n",
            "\t\"District,\"\n",
            "\t\"Sub-District LGD Code,\"\n",
            "\t\"Sub-District,\"\n",
            "\t\"ULB_RLB_Village LGD Code,\"\n",
            "\t\"ULB_RLB_Village,\"\n",
            "\t\"YearCode,\"\n",
            "\t\"Year,\"\n",
            "\t\"Level, Location Level District, Sub-district, Village, Town,Ward etc.,\"\n",
            "),\n",
            "\"Social and Demographic Indicators - Population 7388\" (\n",
            "\t\"Literacy rate (%),\"\n",
            "\t\"Country,\"\n",
            "\t\"State lgd code,\"\n",
            "\t\"State,\"\n",
            "\t\"Yearcode,\"\n",
            "\t\"Year,\"\n",
            "),\n",
            " \n",
            "\n",
            "Question: what is the correlation between child nourishment and parental education?\n",
            "SQL:\n",
            "\n",
            "SELECT AVG(nfhs4.\"Children age group 6 to 23 months receiving an adequate diet (%)\") AS child_nourishment,\n",
            "       AVG(nfhs4_5.\"Women age group 15 to 49 years who are literate (%)\") AS parental_education\n",
            "FROM \"National Family Health Survey - 4 : District 7034\" nfhs4\n",
            "JOIN \"National Family Health Survey - 4 & 5: State 6821\" nfhs4_5\n",
            "ON nfhs4.\"State lgd code\" = nfhs4_5.\"State lgd code\"\n",
            "AND nfhs4.\"District lgd code\" = nfhs4_5.\"District lgd code\"\n",
            "WHERE nfhs4.\"Year\" = nfhs4_5.\"Year\"\n",
            "GROUP BY nfhs4.\"State lgd code\", nfhs4.\"District lgd code\"\n"
          ]
        }
      ]
    },
    {
      "cell_type": "code",
      "source": [
        "check = input('Generated SQL maybe incorrect. Want to register correct SQL? Press \"y\" to `proceed` and \"n\" to `skip`: ')\n",
        "if check == 'y':\n",
        "    correct_sql = input('Enter correct SQL: ')\n",
        "    correct_txt_sql_pairs.append(\n",
        "        {\n",
        "            'question': question,\n",
        "            'sql': correct_sql,\n",
        "        }\n",
        "    )"
      ],
      "metadata": {
        "id": "vCuXX9_BBFCn",
        "colab": {
          "base_uri": "https://localhost:8080/"
        },
        "outputId": "95a95548-a5b8-46c4-d32a-c606940e74ee"
      },
      "execution_count": null,
      "outputs": [
        {
          "name": "stdout",
          "output_type": "stream",
          "text": [
            "Generated SQL maybe incorrect. Want to register correct SQL? Press \"y\" to `proceed` and \"n\" to `skip`: n\n"
          ]
        }
      ]
    },
    {
      "cell_type": "code",
      "source": [],
      "metadata": {
        "id": "BJpQHZoWBFFL"
      },
      "execution_count": null,
      "outputs": []
    },
    {
      "cell_type": "code",
      "source": [
        "feedback_options = [\n",
        "    'Retrieval is wrong',\n",
        "    'Retrieval is fine, but some other relevant table/columns are missing',\n",
        "    'Retrieval is correct, but generated SQL is wrong',\n",
        "    'Generated SQL seems correct, execution error',\n",
        "    'Everything looks fine!'\n",
        "]\n",
        "\n",
        "columns = [\n",
        "    'question',\n",
        "    'isWrongRetrieval',\n",
        "    'wrong_retrieval_feedback',\n",
        "    'isIncompleteRetrieval',\n",
        "    'additional_table_feedback',\n",
        "    'isSqlWrongUnsure',\n",
        "    'additional_SQL_feedback',\n",
        "    'isNonExecutable',\n",
        "    'final_remarks'\n",
        "]\n"
      ],
      "metadata": {
        "id": "31RfJeGABFHj"
      },
      "execution_count": 9,
      "outputs": []
    },
    {
      "cell_type": "code",
      "source": [
        "def get_feedback(question, predicted_sql):\n",
        "    new_row = [question]\n",
        "    print('Feedback options:')\n",
        "    for idx, option in enumerate(feedback_options):\n",
        "        print(f'{idx+1}: {option}')\n",
        "    choosen_option = int(input(f'\\nYour input: (press any number from 1 .. {len(feedback_options)}): '))\n",
        "\n",
        "    if choosen_option == 1:\n",
        "        response = input('\\nCan you provide correct table(s)? Press `y` for yes, `n` for no: ')\n",
        "        correct_tables = \"-\"\n",
        "        if response == 'y':\n",
        "            correct_tables = input('\\nPlease enter correct table names/codes:\\n')\n",
        "        new_row.append([\"yes\", correct_tables, \"NA\", 'NA', \"NA\", 'NA', \"NA\", 'NA'])\n",
        "\n",
        "    elif choosen_option == 2:\n",
        "        new_row.extend([\"no\", '-']) # skipping 1st option details\n",
        "\n",
        "        response = input('\\nCan you provide additional correct table(s)? Press `y` for yes, `n` for no: ')\n",
        "        additional_tables = \"-\"\n",
        "        if response == 'y':\n",
        "            additional_tables = input('\\nPlease enter additional relevant table names/codes (1 in each line):\\n')\n",
        "        new_row.extend([\"yes\", additional_tables])\n",
        "\n",
        "        response = int(input('\\nIs the SQL correct based on the retrieval? (press `1` for yes, `2` for no, `3` for not sure): '))\n",
        "        correct_sql = \"NA\"\n",
        "        if response in [2, 3]:\n",
        "            response = input('\\nWant to register correct SQL? Press `y` for yes, `n` for no: ')\n",
        "            if response == 'y':\n",
        "                correct_sql = input('\\nPlease enter correct SQL:\\n')\n",
        "            new_row.extend([\"yes\", correct_sql])\n",
        "        else:\n",
        "            new_row.extend([\"no\", predicted_sql])\n",
        "\n",
        "        new_row.extend([\"NA\", \"NA\"])\n",
        "\n",
        "    elif choosen_option == 3:\n",
        "        new_row.extend([0, \"-\", 0, \"-\"]) # skipping initial 2 options\n",
        "\n",
        "        response = input('\\nWant to register correct SQL? Press `y` for yes, `n` for no: ')\n",
        "        correct_sql = \"NA\"\n",
        "        if response == 'y':\n",
        "            correct_sql = input('\\nPlease enter correct SQL:\\n')\n",
        "        new_row.extend([\"yes\", correct_sql])\n",
        "\n",
        "        new_row.extend([\"yes\", \"NA\"])\n",
        "\n",
        "    elif choosen_option == 4:\n",
        "        new_row.extend([\"no\", \"NA\", \"no\", \"NA\", \"no\", predicted_sql, \"yes\", \"NA\"])\n",
        "        print('\\nThank you for the feedback!')\n",
        "\n",
        "    elif choosen_option == 5:\n",
        "        new_row.extend([\"no\", \"NA\", \"no\", \"NA\", \"no\", predicted_sql, \"no\", \"all good\"])\n",
        "        print('\\nThank you for the feedback!')\n",
        "\n",
        "def submit_response(new_row):\n",
        "    worksheet = gc.open_by_url('https://docs.google.com/spreadsheets/d/1PTiGJcXDntJNPVjkFRdgSersW4HqkICQtDc7zezr6w8/edit#gid=0').sheet1\n",
        "\n",
        "    # get_all_values gives a list of rows.\n",
        "    rows = worksheet.get_all_values()\n",
        "\n",
        "    # Find the last row with data\n",
        "    last_row = len(rows)\n",
        "\n",
        "    # Append the feedbacks to the first column\n",
        "    for i, feedback in enumerate(new_row):\n",
        "        worksheet.update_cell(last_row + 1, i + 1, feedback)\n"
      ],
      "metadata": {
        "id": "HdvH-OtztLPG"
      },
      "execution_count": 7,
      "outputs": []
    },
    {
      "cell_type": "code",
      "source": [
        "response = input('Want to provide feedback? Press `y` for yes, `n` for no: ')\n",
        "if response == 'y':\n",
        "    feedback_data = get_feedback()\n",
        "    submit_response(feedback_data)"
      ],
      "metadata": {
        "colab": {
          "base_uri": "https://localhost:8080/"
        },
        "id": "rcKljKizYP4u",
        "outputId": "d7bbfdda-18a4-4810-e6c5-af6ecaf4df73"
      },
      "execution_count": 8,
      "outputs": [
        {
          "name": "stdout",
          "output_type": "stream",
          "text": [
            "Want to provide feedback? Press `y` for yes, `n` for no: n\n"
          ]
        }
      ]
    },
    {
      "cell_type": "code",
      "source": [],
      "metadata": {
        "id": "sq1yOQbu4R2q"
      },
      "execution_count": null,
      "outputs": []
    },
    {
      "cell_type": "code",
      "source": [],
      "metadata": {
        "id": "0wrofNkxhr7i"
      },
      "execution_count": null,
      "outputs": []
    },
    {
      "cell_type": "code",
      "source": [],
      "metadata": {
        "id": "Evv1YXgzhr2n"
      },
      "execution_count": null,
      "outputs": []
    },
    {
      "cell_type": "code",
      "source": [],
      "metadata": {
        "id": "aOIiKzswYQEM"
      },
      "execution_count": null,
      "outputs": []
    },
    {
      "cell_type": "code",
      "source": [],
      "metadata": {
        "id": "DouGB315BFJ8"
      },
      "execution_count": null,
      "outputs": []
    },
    {
      "cell_type": "code",
      "source": [],
      "metadata": {
        "id": "6L20RMacBFPu"
      },
      "execution_count": null,
      "outputs": []
    },
    {
      "cell_type": "code",
      "source": [],
      "metadata": {
        "id": "eXAvqR8_-5Rq"
      },
      "execution_count": null,
      "outputs": []
    }
  ]
}