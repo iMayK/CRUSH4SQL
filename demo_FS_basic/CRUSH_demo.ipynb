{
  "cells": [
    {
      "attachments": {},
      "cell_type": "markdown",
      "metadata": {
        "colab_type": "text",
        "id": "view-in-github"
      },
      "source": [
        "<a href=\"https://colab.research.google.com/github/iMayK/CRUSH_demo/blob/main/demo_FS_basic/CRUSH_demo.ipynb\" target=\"_parent\"><img src=\"https://colab.research.google.com/assets/colab-badge.svg\" alt=\"Open In Colab\"/></a>"
      ]
    },
    {
      "cell_type": "code",
      "execution_count": null,
      "metadata": {},
      "outputs": [],
      "source": [
        "#@title CRUSH demo\n",
        "#@markdown In order to use this colab\n",
        "#@markdown - **Note**: you need OpenAI key.\n",
        "#@markdown - You can give feedback for each new input question, however it is optional. Feedback will be submitted to the author, and **will require google authentication**.\n",
        "#@markdown - click `Runtime > Run all` or run each cell individually.\n",
        "\n",
        "!git clone https://github.com/iMayK/CRUSH_demo.git\n",
        "%cd CRUSH_demo/demo_FS_basic/\n",
        "\n",
        "# download document indexes\n",
        "!gdown --output utils/ 1iT92VJj-HWlxa9hj3BA8YAkPWGaKLvl3\n",
        "\n",
        "!pip install openai\n",
        "\n",
        "from utils.query_processing import QueryProcessingSession\n",
        "\n",
        "session = None"
      ]
    },
    {
      "cell_type": "code",
      "execution_count": null,
      "metadata": {},
      "outputs": [
        {
          "data": {
            "application/vnd.jupyter.widget-view+json": {
              "model_id": "f76e4dfef16940a5aa2bdb6c832042e6",
              "version_major": 2,
              "version_minor": 0
            },
            "text/plain": [
              "HTML(value='<p><b>Please enter OpenAI key</b></p>')"
            ]
          },
          "metadata": {},
          "output_type": "display_data"
        },
        {
          "data": {
            "application/vnd.jupyter.widget-view+json": {
              "model_id": "5f336556d7a54a93a44f27490bd6d797",
              "version_major": 2,
              "version_minor": 0
            },
            "text/plain": [
              "Password(description='API Key:', placeholder='Enter API Key')"
            ]
          },
          "metadata": {},
          "output_type": "display_data"
        },
        {
          "data": {
            "application/vnd.jupyter.widget-view+json": {
              "model_id": "3017bd9c3840424f929b3cfe616eb43a",
              "version_major": 2,
              "version_minor": 0
            },
            "text/plain": [
              "Button(description='Submit', style=ButtonStyle())"
            ]
          },
          "metadata": {},
          "output_type": "display_data"
        }
      ],
      "source": [
        "#@title  run this cell to ask questions\n",
        "\n",
        "#@markdown \n",
        "\n",
        "if session is None: \n",
        "    session = QueryProcessingSession()  \n",
        "\n",
        "if session.api_key is None:\n",
        "    session.ask_openai_creds()\n",
        "else:\n",
        "    session.ask_question()"
      ]
    },
    {
      "cell_type": "code",
      "execution_count": null,
      "metadata": {},
      "outputs": [],
      "source": []
    }
  ],
  "metadata": {
    "colab": {
      "authorship_tag": "ABX9TyO1uo6C/ZH6tVvMzazPKf2e",
      "include_colab_link": true,
      "provenance": []
    },
    "kernelspec": {
      "display_name": "Python 3",
      "name": "python3"
    },
    "language_info": {
      "codemirror_mode": {
        "name": "ipython",
        "version": 3
      },
      "file_extension": ".py",
      "mimetype": "text/x-python",
      "name": "python",
      "nbconvert_exporter": "python",
      "pygments_lexer": "ipython3",
      "version": "3.7.16"
    }
  },
  "nbformat": 4,
  "nbformat_minor": 0
}
